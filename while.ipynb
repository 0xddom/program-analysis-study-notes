{
 "cells": [
  {
   "cell_type": "markdown",
   "metadata": {},
   "source": [
    "# The While language\n",
    "\n",
    "The While language is a procedural language that is commonly used for learning program analysis. Is the barebones of an imperative language that can be extended for reasoning about other properties of programs.\n",
    "\n",
    "The abstract syntax of the While language is as follows"
   ]
  },
  {
   "cell_type": "code",
   "execution_count": 1,
   "metadata": {},
   "outputs": [
    {
     "data": {
      "text/plain": [
       "type var = string\n"
      ]
     },
     "execution_count": 1,
     "metadata": {},
     "output_type": "execute_result"
    },
    {
     "data": {
      "text/plain": [
       "type label = int\n"
      ]
     },
     "execution_count": 1,
     "metadata": {},
     "output_type": "execute_result"
    },
    {
     "data": {
      "text/plain": [
       "type expr = Var of var | Const of int | Op of string * expr * expr\n"
      ]
     },
     "execution_count": 1,
     "metadata": {},
     "output_type": "execute_result"
    },
    {
     "data": {
      "text/plain": [
       "type bool_expr =\n",
       "    True\n",
       "  | False\n",
       "  | Not of bool_expr\n",
       "  | BoolOp of string * bool_expr * bool_expr\n",
       "  | RelOp of string * expr * expr\n"
      ]
     },
     "execution_count": 1,
     "metadata": {},
     "output_type": "execute_result"
    },
    {
     "data": {
      "text/plain": [
       "type stmt =\n",
       "    Skip of label\n",
       "  | Assign of var * expr * label\n",
       "  | Seq of stmt * stmt\n",
       "  | If of bool_expr * label * stmt * stmt\n",
       "  | While of bool_expr * label * stmt\n"
      ]
     },
     "execution_count": 1,
     "metadata": {},
     "output_type": "execute_result"
    }
   ],
   "source": [
    "type var = string\n",
    "type label = int\n",
    "\n",
    "type expr = Var of var \n",
    "          | Const of int\n",
    "          | Op of string * expr * expr\n",
    "type bool_expr = True | False\n",
    "               | Not of bool_expr\n",
    "               | BoolOp of string * bool_expr * bool_expr\n",
    "               | RelOp of string * expr * expr\n",
    "type stmt = Skip of label\n",
    "          | Assign of var * expr * label\n",
    "          | Seq of stmt * stmt\n",
    "          | If of bool_expr * label * stmt * stmt\n",
    "          | While of bool_expr * label * stmt"
   ]
  },
  {
   "cell_type": "markdown",
   "metadata": {},
   "source": [
    "We can define an example program with this syntax:\n",
    "\n",
    "```python\n",
    "y = x          # 1\n",
    "z = 1          # 2\n",
    "while y > 1:   # 3\n",
    "    z = z * y  # 4\n",
    "    y = y - 1  # 5\n",
    "y = 0          # 6\n",
    "```\n",
    "\n",
    "Each number represent the label of that part of the program. In OCaml syntax this program will look like this"
   ]
  },
  {
   "cell_type": "code",
   "execution_count": 2,
   "metadata": {},
   "outputs": [
    {
     "data": {
      "text/plain": [
       "module Examples : sig val factorial : stmt end\n"
      ]
     },
     "execution_count": 2,
     "metadata": {},
     "output_type": "execute_result"
    }
   ],
   "source": [
    "module Examples = struct\n",
    "    let factorial = Seq (\n",
    "                            Assign (\"y\", (Var \"x\"), 1),\n",
    "                            Seq (\n",
    "                                    Assign (\"z\", (Const 1), 2),\n",
    "                                    Seq (\n",
    "                                            While (\n",
    "                                                    RelOp (\">\", (Var \"y\"), (Const 1)), \n",
    "                                                    3, \n",
    "                                                    Seq (\n",
    "                                                            Assign (\"z\", Op (\"*\", (Var \"z\"), (Var \"y\")), 4),\n",
    "                                                            Assign (\"y\", Op (\"-\", (Var \"y\"), (Const 1)), 5)\n",
    "                                                        )\n",
    "                                                  ),\n",
    "                                            Assign (\"y\", (Const 0), 6)\n",
    "                                        )\n",
    "                                )\n",
    "                        )\n",
    "end"
   ]
  },
  {
   "cell_type": "markdown",
   "metadata": {},
   "source": [
    "For the analysis of the programs we will need mostly three things from the program:\n",
    "\n",
    "- The variables in the program\n",
    "- The labels defined in the program\n",
    "- The call graph\n",
    "\n",
    "We can write some utility functions that will give us this information"
   ]
  },
  {
   "cell_type": "code",
   "execution_count": 3,
   "metadata": {},
   "outputs": [
    {
     "data": {
      "text/plain": [
       "module VarsSet :\n",
       "  sig\n",
       "    type elt = String.t\n",
       "    type t = Set.Make(String).t\n",
       "    val empty : t\n",
       "    val is_empty : t -> bool\n",
       "    val mem : elt -> t -> bool\n",
       "    val add : elt -> t -> t\n",
       "    val singleton : elt -> t\n",
       "    val remove : elt -> t -> t\n",
       "    val union : t -> t -> t\n",
       "    val inter : t -> t -> t\n",
       "    val diff : t -> t -> t\n",
       "    val compare : t -> t -> int\n",
       "    val equal : t -> t -> bool\n",
       "    val subset : t -> t -> bool\n",
       "    val iter : (elt -> unit) -> t -> unit\n",
       "    val map : (elt -> elt) -> t -> t\n",
       "    val fold : (elt -> 'a -> 'a) -> t -> 'a -> 'a\n",
       "    val for_all : (elt -> bool) -> t -> bool\n",
       "    val exists : (elt -> bool) -> t -> bool\n",
       "    val filter : (elt -> bool) -> t -> t\n",
       "    val partition : (elt -> bool) -> t -> t * t\n",
       "    val cardinal : t -> int\n",
       "    val elements : t -> elt list\n",
       "    val min_elt : t -> elt\n",
       "    val min_elt_opt : t -> elt option\n",
       "    val max_elt : t -> elt\n",
       "    val max_elt_opt : t -> elt option\n",
       "    val choose : t -> elt\n",
       "    val choose_opt : t -> elt option\n",
       "    val split : elt -> t -> t * bool * t\n",
       "    val find : elt -> t -> elt\n",
       "    val find_opt : elt -> t -> elt option\n",
       "    val find_first : (elt -> bool) -> t -> elt\n",
       "    val find_first_opt : (elt -> bool) -> t -> elt option\n",
       "    val find_last : (elt -> bool) -> t -> elt\n",
       "    val find_last_opt : (elt -> bool) -> t -> elt option\n",
       "    val of_list : elt list -> t\n",
       "    val to_seq_from : elt -> t -> elt Seq.t\n",
       "    val to_seq : t -> elt Seq.t\n",
       "    val add_seq : elt Seq.t -> t -> t\n",
       "    val of_seq : elt Seq.t -> t\n",
       "  end\n"
      ]
     },
     "execution_count": 3,
     "metadata": {},
     "output_type": "execute_result"
    },
    {
     "data": {
      "text/plain": [
       "val vars_of_expr : expr -> VarsSet.t = <fun>\n"
      ]
     },
     "execution_count": 3,
     "metadata": {},
     "output_type": "execute_result"
    },
    {
     "data": {
      "text/plain": [
       "val vars_of_bool_expr : bool_expr -> VarsSet.t = <fun>\n"
      ]
     },
     "execution_count": 3,
     "metadata": {},
     "output_type": "execute_result"
    },
    {
     "data": {
      "text/plain": [
       "val vars_of_stmt : stmt -> VarsSet.t = <fun>\n"
      ]
     },
     "execution_count": 3,
     "metadata": {},
     "output_type": "execute_result"
    },
    {
     "data": {
      "text/plain": [
       "module LabelsSet :\n",
       "  sig\n",
       "    type elt = int\n",
       "    type t\n",
       "    val empty : t\n",
       "    val is_empty : t -> bool\n",
       "    val mem : elt -> t -> bool\n",
       "    val add : elt -> t -> t\n",
       "    val singleton : elt -> t\n",
       "    val remove : elt -> t -> t\n",
       "    val union : t -> t -> t\n",
       "    val inter : t -> t -> t\n",
       "    val diff : t -> t -> t\n",
       "    val compare : t -> t -> int\n",
       "    val equal : t -> t -> bool\n",
       "    val subset : t -> t -> bool\n",
       "    val iter : (elt -> unit) -> t -> unit\n",
       "    val map : (elt -> elt) -> t -> t\n",
       "    val fold : (elt -> 'a -> 'a) -> t -> 'a -> 'a\n",
       "    val for_all : (elt -> bool) -> t -> bool\n",
       "    val exists : (elt -> bool) -> t -> bool\n",
       "    val filter : (elt -> bool) -> t -> t\n",
       "    val partition : (elt -> bool) -> t -> t * t\n",
       "    val cardinal : t -> int\n",
       "    val elements : t -> elt list\n",
       "    val min_elt : t -> elt\n",
       "    val min_elt_opt : t -> elt option\n",
       "    val max_elt : t -> elt\n",
       "    val max_elt_opt : t -> elt option\n",
       "    val choose : t -> elt\n",
       "    val choose_opt : t -> elt option\n",
       "    val split : elt -> t -> t * bool * t\n",
       "    val find : elt -> t -> elt\n",
       "    val find_opt : elt -> t -> elt option\n",
       "    val find_first : (elt -> bool) -> t -> elt\n",
       "    val find_first_opt : (elt -> bool) -> t -> elt option\n",
       "    val find_last : (elt -> bool) -> t -> elt\n",
       "    val find_last_opt : (elt -> bool) -> t -> elt option\n",
       "    val of_list : elt list -> t\n",
       "    val to_seq_from : elt -> t -> elt Seq.t\n",
       "    val to_seq : t -> elt Seq.t\n",
       "    val add_seq : elt Seq.t -> t -> t\n",
       "    val of_seq : elt Seq.t -> t\n",
       "  end\n"
      ]
     },
     "execution_count": 3,
     "metadata": {},
     "output_type": "execute_result"
    },
    {
     "data": {
      "text/plain": [
       "val labels_of_stmt : stmt -> LabelsSet.t = <fun>\n"
      ]
     },
     "execution_count": 3,
     "metadata": {},
     "output_type": "execute_result"
    }
   ],
   "source": [
    "module VarsSet = Set.Make(String)\n",
    "\n",
    "let rec vars_of_expr = function\n",
    "| Var v -> VarsSet.singleton v\n",
    "| Const _ -> VarsSet.empty\n",
    "| Op (_, e1, e2) -> VarsSet.union (vars_of_expr e1) (vars_of_expr e2)\n",
    "\n",
    "let rec vars_of_bool_expr = function\n",
    "| True | False -> VarsSet.empty\n",
    "| Not b -> vars_of_bool_expr b\n",
    "| BoolOp (_, b1, b2) -> VarsSet.union (vars_of_bool_expr b1) (vars_of_bool_expr b2)\n",
    "| RelOp (_, e1, e2) -> VarsSet.union (vars_of_expr e1) (vars_of_expr e2)\n",
    "\n",
    "let rec vars_of_stmt = function\n",
    "| Skip _ -> VarsSet.empty\n",
    "| Assign (v, e, _) -> VarsSet.union (VarsSet.singleton v) (vars_of_expr e)\n",
    "| Seq (s1, s2) -> VarsSet.union (vars_of_stmt s1) (vars_of_stmt s2)\n",
    "| If (b, _, s1, s2) -> VarsSet.union (VarsSet.union (vars_of_bool_expr b) (vars_of_stmt s1)) (vars_of_stmt s2)\n",
    "| While (b, _, s) -> VarsSet.union (vars_of_bool_expr b) (vars_of_stmt s)\n",
    "\n",
    "module LabelsSet = Set.Make(struct \n",
    "   type t = int \n",
    "   let compare = compare\n",
    "end)\n",
    " \n",
    "let rec labels_of_stmt = function\n",
    "| Skip l -> LabelsSet.singleton l\n",
    "| Assign (_, _, l) -> LabelsSet.singleton l\n",
    "| Seq (s1, s2) -> LabelsSet.union (labels_of_stmt s1) (labels_of_stmt s2)\n",
    "| If (_, l, s1, s2) -> LabelsSet.union (LabelsSet.union (LabelsSet.singleton l) (labels_of_stmt s1)) (labels_of_stmt s2)\n",
    "| While (_, l, s) -> LabelsSet.union (LabelsSet.singleton l) (labels_of_stmt s)\n"
   ]
  },
  {
   "cell_type": "markdown",
   "metadata": {},
   "source": [
    "## CFG generation\n",
    "\n",
    "The CFG can be generated by induction. The base cases are the rules in the abstract syntax that dont have recursive rules for staments.\n",
    "\n",
    "A CFG is composed of a set of nodes, a set of vertices, the begin node and the end node\n",
    "\n",
    "$ f : (G, p), s \\rightarrow (G, p) $ is the function that generates the graph given a graph and the current statement and $ G \\equiv (n_0, v_0, b_0, e_0) $ \n",
    "\n",
    "### Base cases\n",
    "\n",
    "$$ f(((n_0, v_0, b_0, e_0), p_0), \\mathbf{Skip}\\,l) = ((n_0 \\vee \\{\\mathtt{skip}\\,l\\}, v_0 \\vee \\{(\\mathtt{skip}\\, l, e_0)\\} \\vee \\{(p, \\mathtt{skip}\\, l) | p \\in p_0\\} / \\{(p, e_0) | p \\in p_0\\}, b_0, e_0), \\{\\mathtt{skip}\\,l\\}) $$\n",
    "\n",
    "$$ f(((n_0, v_0, b_0, e_0), p_0), \\mathbf{Assign}\\,(v,e,l)) = ((n_0 \\vee \\{\\mathtt{assign}\\,(v,e,l)\\}, v_0 \\vee \\{(\\mathtt{assign}\\, (v,e,l), e_0)\\} \\vee \\{(p, \\mathtt{assign}\\, (v,e,l)) | p \\in p_0\\} / \\{(p, e_0) | p \\in p_0\\}, b_0, e_0), \\{\\mathtt{assign}\\,(v,e,l)\\}) $$\n",
    "\n",
    "\n",
    "### Recursive cases\n",
    "\n",
    "$$ f(((n_0, v_0, b_0, e_0), p_0), \\mathbf{Seq}\\,(s_1, s_2)) = f(f(((n_0, v_0, b_0, e_0), p_0), s_1), s_2) $$\n",
    "\n",
    "$$ f(((n_0, v_0, b_0, e_0), p_0), \\mathbf{If}\\,(b, l, s_1, s_2)) = ((n_3, v_3, b_0, e_0), p_1 \\vee p_2);\\\\ n_1 = n_0 \\vee \\{\\mathtt{bool}\\, (b, l)\\},\\\\ v_1 = v_0 \\vee \\{(\\mathtt{bool}\\, (b, l), e_0)\\} \\vee \\{(p, \\mathtt{bool}\\, (b, l)) | p \\in p_0\\} / \\{(p, e_0) | p \\in p_0\\},\\\\ ((n_2, v_2, b_2, e_2), p_1) = f(((n_1, v_1, b_0, e_0), \\{\\mathtt{bool}\\, (b, l)\\}), s_1),\\\\ ((n_3, v_3, b_3, e_3), p_2) = f(((n_2, v_2, b_0, e_0), \\{\\mathtt{bool}\\, (b, l)\\}), s_2) $$\n",
    "\n",
    "$$ f(((n_0, v_0, b_0, e_0), p_0), \\mathbf{While}\\,(b, l, s)) = ((n_1, v_1 \\vee \\{(p, \\mathtt{bool}\\, (b, l)) | p \\in p_1\\} / \\{(p, e_0) | p \\in p_1\\}, b_0, e_0), \\{\\mathtt{bool}\\, (b, l)\\});\\\\ ((n_1, v_1, b_1, e_1), p_1) = f(((n_0 \\vee \\{\\mathtt{bool}\\, (b, l)\\},\n",
    "                                            v_0 \\vee \\{(\\mathtt{bool}\\, (b, l), e_0)\\} \\vee \\{(p, \\mathtt{bool}\\, (b, l)) | p \\in p_0\\} / \\{(p, e_0) | p \\in p_0\\},\n",
    "                                            b_0,\n",
    "                                            e_0),\n",
    "                                            \\{\\mathtt{bool}\\, (b, l)\\}), s) $$\n",
    "\n"
   ]
  },
  {
   "cell_type": "code",
   "execution_count": 4,
   "metadata": {},
   "outputs": [
    {
     "data": {
      "text/plain": [
       "type graph_node =\n",
       "    BeginNode\n",
       "  | EndNode\n",
       "  | SkipNode of label\n",
       "  | AssignNode of var * expr * label\n",
       "  | BoolNode of bool_expr * label\n"
      ]
     },
     "execution_count": 4,
     "metadata": {},
     "output_type": "execute_result"
    },
    {
     "data": {
      "text/plain": [
       "type graph_edge = graph_node * graph_node\n"
      ]
     },
     "execution_count": 4,
     "metadata": {},
     "output_type": "execute_result"
    },
    {
     "data": {
      "text/plain": [
       "module CFGNodes :\n",
       "  sig\n",
       "    type elt = graph_node\n",
       "    type t\n",
       "    val empty : t\n",
       "    val is_empty : t -> bool\n",
       "    val mem : elt -> t -> bool\n",
       "    val add : elt -> t -> t\n",
       "    val singleton : elt -> t\n",
       "    val remove : elt -> t -> t\n",
       "    val union : t -> t -> t\n",
       "    val inter : t -> t -> t\n",
       "    val diff : t -> t -> t\n",
       "    val compare : t -> t -> int\n",
       "    val equal : t -> t -> bool\n",
       "    val subset : t -> t -> bool\n",
       "    val iter : (elt -> unit) -> t -> unit\n",
       "    val map : (elt -> elt) -> t -> t\n",
       "    val fold : (elt -> 'a -> 'a) -> t -> 'a -> 'a\n",
       "    val for_all : (elt -> bool) -> t -> bool\n",
       "    val exists : (elt -> bool) -> t -> bool\n",
       "    val filter : (elt -> bool) -> t -> t\n",
       "    val partition : (elt -> bool) -> t -> t * t\n",
       "    val cardinal : t -> int\n",
       "    val elements : t -> elt list\n",
       "    val min_elt : t -> elt\n",
       "    val min_elt_opt : t -> elt option\n",
       "    val max_elt : t -> elt\n",
       "    val max_elt_opt : t -> elt option\n",
       "    val choose : t -> elt\n",
       "    val choose_opt : t -> elt option\n",
       "    val split : elt -> t -> t * bool * t\n",
       "    val find : elt -> t -> elt\n",
       "    val find_opt : elt -> t -> elt option\n",
       "    val find_first : (elt -> bool) -> t -> elt\n",
       "    val find_first_opt : (elt -> bool) -> t -> elt option\n",
       "    val find_last : (elt -> bool) -> t -> elt\n",
       "    val find_last_opt : (elt -> bool) -> t -> elt option\n",
       "    val of_list : elt list -> t\n",
       "    val to_seq_from : elt -> t -> elt Seq.t\n",
       "    val to_seq : t -> elt Seq.t\n",
       "    val add_seq : elt Seq.t -> t -> t\n",
       "    val of_seq : elt Seq.t -> t\n",
       "  end\n"
      ]
     },
     "execution_count": 4,
     "metadata": {},
     "output_type": "execute_result"
    },
    {
     "data": {
      "text/plain": [
       "module CFGEdges :\n",
       "  sig\n",
       "    type elt = graph_edge\n",
       "    type t\n",
       "    val empty : t\n",
       "    val is_empty : t -> bool\n",
       "    val mem : elt -> t -> bool\n",
       "    val add : elt -> t -> t\n",
       "    val singleton : elt -> t\n",
       "    val remove : elt -> t -> t\n",
       "    val union : t -> t -> t\n",
       "    val inter : t -> t -> t\n",
       "    val diff : t -> t -> t\n",
       "    val compare : t -> t -> int\n",
       "    val equal : t -> t -> bool\n",
       "    val subset : t -> t -> bool\n",
       "    val iter : (elt -> unit) -> t -> unit\n",
       "    val map : (elt -> elt) -> t -> t\n",
       "    val fold : (elt -> 'a -> 'a) -> t -> 'a -> 'a\n",
       "    val for_all : (elt -> bool) -> t -> bool\n",
       "    val exists : (elt -> bool) -> t -> bool\n",
       "    val filter : (elt -> bool) -> t -> t\n",
       "    val partition : (elt -> bool) -> t -> t * t\n",
       "    val cardinal : t -> int\n",
       "    val elements : t -> elt list\n",
       "    val min_elt : t -> elt\n",
       "    val min_elt_opt : t -> elt option\n",
       "    val max_elt : t -> elt\n",
       "    val max_elt_opt : t -> elt option\n",
       "    val choose : t -> elt\n",
       "    val choose_opt : t -> elt option\n",
       "    val split : elt -> t -> t * bool * t\n",
       "    val find : elt -> t -> elt\n",
       "    val find_opt : elt -> t -> elt option\n",
       "    val find_first : (elt -> bool) -> t -> elt\n",
       "    val find_first_opt : (elt -> bool) -> t -> elt option\n",
       "    val find_last : (elt -> bool) -> t -> elt\n",
       "    val find_last_opt : (elt -> bool) -> t -> elt option\n",
       "    val of_list : elt list -> t\n",
       "    val to_seq_from : elt -> t -> elt Seq.t\n",
       "    val to_seq : t -> elt Seq.t\n",
       "    val add_seq : elt Seq.t -> t -> t\n",
       "    val of_seq : elt Seq.t -> t\n",
       "  end\n"
      ]
     },
     "execution_count": 4,
     "metadata": {},
     "output_type": "execute_result"
    },
    {
     "data": {
      "text/plain": [
       "type cfg = CFGNodes.t * CFGEdges.t * graph_node * graph_node\n"
      ]
     },
     "execution_count": 4,
     "metadata": {},
     "output_type": "execute_result"
    },
    {
     "data": {
      "text/plain": [
       "val empty_cfg : CFGNodes.t * CFGEdges.t * graph_node * graph_node =\n",
       "  (<abstr>, <abstr>, BeginNode, EndNode)\n"
      ]
     },
     "execution_count": 4,
     "metadata": {},
     "output_type": "execute_result"
    },
    {
     "data": {
      "text/plain": [
       "val pnl : 'a -> 'b -> 'b * 'a = <fun>\n"
      ]
     },
     "execution_count": 4,
     "metadata": {},
     "output_type": "execute_result"
    },
    {
     "data": {
      "text/plain": [
       "val nodes_to_edges :\n",
       "  (CFGNodes.elt -> CFGEdges.elt) -> CFGNodes.t -> CFGEdges.t = <fun>\n"
      ]
     },
     "execution_count": 4,
     "metadata": {},
     "output_type": "execute_result"
    },
    {
     "data": {
      "text/plain": [
       "val add_node : CFGNodes.t -> CFGNodes.elt -> CFGNodes.t = <fun>\n"
      ]
     },
     "execution_count": 4,
     "metadata": {},
     "output_type": "execute_result"
    },
    {
     "data": {
      "text/plain": [
       "val add_vertex : CFGEdges.t -> CFGEdges.elt -> CFGEdges.t = <fun>\n"
      ]
     },
     "execution_count": 4,
     "metadata": {},
     "output_type": "execute_result"
    },
    {
     "data": {
      "text/plain": [
       "val connect : CFGNodes.t -> graph_node -> CFGEdges.t -> CFGEdges.t = <fun>\n"
      ]
     },
     "execution_count": 4,
     "metadata": {},
     "output_type": "execute_result"
    },
    {
     "data": {
      "text/plain": [
       "val not_in_set : CFGEdges.t -> CFGEdges.elt -> bool = <fun>\n"
      ]
     },
     "execution_count": 4,
     "metadata": {},
     "output_type": "execute_result"
    },
    {
     "data": {
      "text/plain": [
       "val disconnect : CFGNodes.t -> graph_node -> CFGEdges.t -> CFGEdges.t = <fun>\n"
      ]
     },
     "execution_count": 4,
     "metadata": {},
     "output_type": "execute_result"
    },
    {
     "data": {
      "text/plain": [
       "val _build_cfg :\n",
       "  (CFGNodes.t * CFGEdges.t * 'a * graph_node) * CFGNodes.t ->\n",
       "  stmt -> (CFGNodes.t * CFGEdges.t * 'a * graph_node) * CFGNodes.t = <fun>\n"
      ]
     },
     "execution_count": 4,
     "metadata": {},
     "output_type": "execute_result"
    },
    {
     "data": {
      "text/plain": [
       "val fst_elt_of_tuple : 'a * 'b -> 'a = <fun>\n"
      ]
     },
     "execution_count": 4,
     "metadata": {},
     "output_type": "execute_result"
    },
    {
     "data": {
      "text/plain": [
       "val build_cfg : stmt -> CFGNodes.t * CFGEdges.t * graph_node * graph_node =\n",
       "  <fun>\n"
      ]
     },
     "execution_count": 4,
     "metadata": {},
     "output_type": "execute_result"
    }
   ],
   "source": [
    "type graph_node = BeginNode | EndNode \n",
    "                | SkipNode of label\n",
    "                | AssignNode of var * expr * label\n",
    "                | BoolNode of bool_expr * label\n",
    "type graph_edge = graph_node * graph_node\n",
    "\n",
    "module CFGNodes = Set.Make(struct\n",
    "    type t = graph_node\n",
    "    let compare = compare\n",
    "end)\n",
    "\n",
    "module CFGEdges = Set.Make(struct\n",
    "    type t = graph_edge\n",
    "    let compare = compare\n",
    "end)\n",
    "\n",
    "type cfg = CFGNodes.t * CFGEdges.t * graph_node * graph_node\n",
    "\n",
    "let empty_cfg = (\n",
    "    CFGNodes.of_list [BeginNode; EndNode], \n",
    "    CFGEdges.singleton (BeginNode, EndNode), \n",
    "    BeginNode, \n",
    "    EndNode)\n",
    "\n",
    "let pnl n1 n2 = (n2, n1)\n",
    "let nodes_to_edges f n = CFGNodes.to_seq n |> Seq.map f |> CFGEdges.of_seq\n",
    "let add_node nodes node = CFGNodes.add node nodes\n",
    "let add_vertex vertices vertex = CFGEdges.add vertex vertices\n",
    "let connect p0 node n0 = nodes_to_edges (pnl node) p0 |> CFGEdges.union n0\n",
    "let not_in_set set elt = CFGEdges.mem elt set |> not\n",
    "let disconnect p0 node n0 = let pairs = nodes_to_edges (pnl node) p0 in \n",
    "                            CFGEdges.filter (not_in_set pairs) n0\n",
    "\n",
    "let rec _build_cfg ((n0, v0, b0, e0), p0) = function\n",
    "| Skip l -> let node = SkipNode l in ((\n",
    "                add_node n0 node,\n",
    "                add_vertex v0 (node, e0) |> connect p0 node |> disconnect p0 e0,\n",
    "                b0, e0\n",
    "            ), CFGNodes.singleton node)\n",
    "| Assign (v, e, l) -> let node = AssignNode (v, e, l) in ((\n",
    "                          add_node n0 node,\n",
    "                          add_vertex v0 (node, e0) |> connect p0 node |> disconnect p0 e0,\n",
    "                          b0, e0\n",
    "                      ), CFGNodes.singleton node)\n",
    "| Seq (s1, s2) -> _build_cfg (_build_cfg ((n0, v0, b0, e0), p0) s1) s2\n",
    "| If (b, l, s1, s2) -> let node = BoolNode (b, l) in\n",
    "                       let n1 = add_node n0 node and\n",
    "                           v1 = add_vertex v0 (node, e0) |> connect p0 node |> disconnect p0 e0 in\n",
    "                       let ((n2, v2, _, _), p1) = _build_cfg ((n1, v1, b0, e0), (CFGNodes.singleton node)) s1 in\n",
    "                       let ((n3, v3, _, _), p2) = _build_cfg ((n2, v2, b0, e0), (CFGNodes.singleton node)) s2 in\n",
    "                       ((n3, v3, b0, e0), CFGNodes.union p1 p2)\n",
    "| While (b, l, s) -> let node = BoolNode (b, l) in\n",
    "                     let ((n1, v1, _, _), p1) = _build_cfg ((\n",
    "                                                     add_node n0 node,\n",
    "                                                     add_vertex v0 (node, e0) |> connect p0 node |> disconnect p0 e0,\n",
    "                                                     b0, e0\n",
    "                                                ), (CFGNodes.singleton node)) s in\n",
    "                     ((n1, v1 |> connect p1 node |> disconnect p1 e0, b0, e0), (CFGNodes.singleton node))\n",
    "\n",
    "let fst_elt_of_tuple (a, _) = a\n",
    "\n",
    "let build_cfg stmt = let (n0, v0, b0, e0) = empty_cfg in \n",
    "                     _build_cfg ((n0, v0, b0, e0), CFGNodes.singleton b0) stmt |> fst_elt_of_tuple\n"
   ]
  },
  {
   "cell_type": "code",
   "execution_count": 5,
   "metadata": {},
   "outputs": [
    {
     "data": {
      "text/plain": [
       "val string_of_expr : expr -> var = <fun>\n"
      ]
     },
     "execution_count": 5,
     "metadata": {},
     "output_type": "execute_result"
    },
    {
     "data": {
      "text/plain": [
       "val string_of_bool_expr : bool_expr -> string = <fun>\n"
      ]
     },
     "execution_count": 5,
     "metadata": {},
     "output_type": "execute_result"
    },
    {
     "data": {
      "text/plain": [
       "val string_of_cfgnode : graph_node -> string = <fun>\n"
      ]
     },
     "execution_count": 5,
     "metadata": {},
     "output_type": "execute_result"
    },
    {
     "data": {
      "text/plain": [
       "val print_relation : graph_node * graph_node -> string = <fun>\n"
      ]
     },
     "execution_count": 5,
     "metadata": {},
     "output_type": "execute_result"
    },
    {
     "data": {
      "text/plain": [
       "val cfg_dotfile : 'a * CFGEdges.t * 'b * 'c -> string = <fun>\n"
      ]
     },
     "execution_count": 5,
     "metadata": {},
     "output_type": "execute_result"
    }
   ],
   "source": [
    "let rec string_of_expr = function\n",
    "| Var v -> v\n",
    "| Const c -> string_of_int c\n",
    "| Op (o, e1, e2) -> Printf.sprintf \"(%s %s %s)\" (string_of_expr e1) o (string_of_expr e2)\n",
    "\n",
    "let rec string_of_bool_expr = function\n",
    "| True -> \"True\"\n",
    "| False -> \"False\"\n",
    "| Not b -> Printf.sprintf \"!%s\" (string_of_bool_expr b)\n",
    "| BoolOp (o, b1, b2) -> Printf.sprintf \"(%s %s %s)\" (string_of_bool_expr b1) o (string_of_bool_expr b2)\n",
    "| RelOp (o, e1, e2) -> Printf.sprintf \"(%s %s %s)\" (string_of_expr e1) o (string_of_expr e2)\n",
    "\n",
    "let string_of_cfgnode = function\n",
    "| BeginNode -> \"begin\"\n",
    "| EndNode -> \"end\"\n",
    "| AssignNode (v, e, l) -> Printf.sprintf \"\\\"[%s := %s] %d\\\"\" v (string_of_expr e) l\n",
    "| SkipNode l -> Printf.sprintf \"\\\"[skip] %d\\\"\" l\n",
    "| BoolNode (b, l) -> Printf.sprintf \"\\\"[%s] %d\\\"\" (string_of_bool_expr b) l\n",
    "\n",
    "let print_relation (f, t) =\n",
    "    \"  \" ^ (string_of_cfgnode f) ^ \" -> \" ^ (string_of_cfgnode t) ^ \"\\n\"\n",
    "\n",
    "let cfg_dotfile (_, v, _, _) =\n",
    "    \"digraph {\\n\" ^\n",
    "    (CFGEdges.to_seq v |> Seq.map print_relation |> Seq.fold_left (^) \"\" ) ^\n",
    "    \"}\\n\""
   ]
  },
  {
   "cell_type": "code",
   "execution_count": null,
   "metadata": {},
   "outputs": [],
   "source": []
  },
  {
   "cell_type": "code",
   "execution_count": 6,
   "metadata": {},
   "outputs": [
    {
     "name": "stdout",
     "output_type": "stream",
     "text": [
      "digraph {\n",
      "  begin -> \"[y := x] 1\"\n",
      "  \"[y := x] 1\" -> \"[z := 1] 2\"\n",
      "  \"[y := 0] 6\" -> end\n",
      "  \"[y := (y - 1)] 5\" -> \"[(y > 1)] 3\"\n",
      "  \"[z := 1] 2\" -> \"[(y > 1)] 3\"\n",
      "  \"[z := (z * y)] 4\" -> \"[y := (y - 1)] 5\"\n",
      "  \"[(y > 1)] 3\" -> \"[y := 0] 6\"\n",
      "  \"[(y > 1)] 3\" -> \"[z := (z * y)] 4\"\n",
      "}\n",
      "\n"
     ]
    },
    {
     "data": {
      "text/plain": [
       "- : unit = ()\n"
      ]
     },
     "execution_count": 6,
     "metadata": {},
     "output_type": "execute_result"
    }
   ],
   "source": [
    "build_cfg Examples.factorial |> cfg_dotfile |> print_endline\n"
   ]
  },
  {
   "cell_type": "code",
   "execution_count": null,
   "metadata": {},
   "outputs": [],
   "source": []
  }
 ],
 "metadata": {
  "kernelspec": {
   "display_name": "OCaml default",
   "language": "OCaml",
   "name": "ocaml-jupyter"
  },
  "language_info": {
   "codemirror_mode": "text/x-ocaml",
   "file_extension": ".ml",
   "mimetype": "text/x-ocaml",
   "name": "OCaml",
   "nbconverter_exporter": null,
   "pygments_lexer": "OCaml",
   "version": "4.07.1"
  }
 },
 "nbformat": 4,
 "nbformat_minor": 2
}
