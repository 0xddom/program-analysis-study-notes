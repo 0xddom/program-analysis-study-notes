{
 "cells": [
  {
   "cell_type": "markdown",
   "metadata": {},
   "source": [
    "# The While language\n",
    "\n",
    "The While language is a procedural language that is commonly used for learning program analysis. Is the barebones of an imperative language that can be extended for reasoning about other properties of programs.\n",
    "\n",
    "The abstract syntax of the While language is as follows"
   ]
  },
  {
   "cell_type": "code",
   "execution_count": 1,
   "metadata": {},
   "outputs": [
    {
     "data": {
      "text/plain": [
       "type var = string\n"
      ]
     },
     "execution_count": 1,
     "metadata": {},
     "output_type": "execute_result"
    },
    {
     "data": {
      "text/plain": [
       "type label = int\n"
      ]
     },
     "execution_count": 1,
     "metadata": {},
     "output_type": "execute_result"
    },
    {
     "data": {
      "text/plain": [
       "type expr = Var of var | Const of int | Op of string * expr * expr\n"
      ]
     },
     "execution_count": 1,
     "metadata": {},
     "output_type": "execute_result"
    },
    {
     "data": {
      "text/plain": [
       "type bool_expr =\n",
       "    True\n",
       "  | False\n",
       "  | Not of bool_expr\n",
       "  | BoolOp of string * bool_expr * bool_expr\n",
       "  | RelOp of string * expr * expr\n"
      ]
     },
     "execution_count": 1,
     "metadata": {},
     "output_type": "execute_result"
    },
    {
     "data": {
      "text/plain": [
       "type stmt =\n",
       "    Skip of label\n",
       "  | Assign of var * expr * label\n",
       "  | Seq of stmt * stmt\n",
       "  | If of bool_expr * label * stmt * stmt\n",
       "  | While of bool_expr * label * stmt\n"
      ]
     },
     "execution_count": 1,
     "metadata": {},
     "output_type": "execute_result"
    }
   ],
   "source": [
    "type var = string\n",
    "type label = int\n",
    "\n",
    "type expr = Var of var \n",
    "          | Const of int\n",
    "          | Op of string * expr * expr\n",
    "type bool_expr = True | False\n",
    "               | Not of bool_expr\n",
    "               | BoolOp of string * bool_expr * bool_expr\n",
    "               | RelOp of string * expr * expr\n",
    "type stmt = Skip of label\n",
    "          | Assign of var * expr * label\n",
    "          | Seq of stmt * stmt\n",
    "          | If of bool_expr * label * stmt * stmt\n",
    "          | While of bool_expr * label * stmt"
   ]
  },
  {
   "cell_type": "markdown",
   "metadata": {},
   "source": [
    "We can define an example program with this syntax:\n",
    "\n",
    "```python\n",
    "y = x          # 1\n",
    "z = 1          # 2\n",
    "while y > 1:   # 3\n",
    "    z = z * y  # 4\n",
    "    y = y - 1  # 5\n",
    "y = 0          # 6\n",
    "```\n",
    "\n",
    "Each number represent the label of that part of the program. In OCaml syntax this program will look like this"
   ]
  },
  {
   "cell_type": "code",
   "execution_count": 25,
   "metadata": {},
   "outputs": [
    {
     "data": {
      "text/plain": [
       "module Examples : sig val factorial : stmt end\n"
      ]
     },
     "execution_count": 25,
     "metadata": {},
     "output_type": "execute_result"
    }
   ],
   "source": [
    "module Examples = struct\n",
    "    let factorial = Seq (\n",
    "                            Assign (\"y\", (Var \"x\"), 1),\n",
    "                            Seq (\n",
    "                                    Assign (\"z\", (Const 1), 2),\n",
    "                                    Seq (\n",
    "                                            While (\n",
    "                                                    RelOp (\">\", (Var \"y\"), (Const 1)), \n",
    "                                                    3, \n",
    "                                                    Seq (\n",
    "                                                            Assign (\"z\", Op (\"*\", (Var \"z\"), (Var \"y\")), 4),\n",
    "                                                            Assign (\"y\", Op (\"-\", (Var \"y\"), (Const 1)), 5)\n",
    "                                                        )\n",
    "                                                  ),\n",
    "                                            Assign (\"y\", (Const 0), 6)\n",
    "                                        )\n",
    "                                )\n",
    "                        )\n",
    "end"
   ]
  },
  {
   "cell_type": "markdown",
   "metadata": {},
   "source": [
    "For the analysis of the programs we will need mostly three things from the program:\n",
    "\n",
    "- The variables in the program\n",
    "- The labels defined in the program\n",
    "- The call graph\n",
    "\n",
    "We can write some utility functions that will give us this information"
   ]
  },
  {
   "cell_type": "code",
   "execution_count": 52,
   "metadata": {},
   "outputs": [
    {
     "data": {
      "text/plain": [
       "module VarsSet :\n",
       "  sig\n",
       "    type elt = String.t\n",
       "    type t = Set.Make(String).t\n",
       "    val empty : t\n",
       "    val is_empty : t -> bool\n",
       "    val mem : elt -> t -> bool\n",
       "    val add : elt -> t -> t\n",
       "    val singleton : elt -> t\n",
       "    val remove : elt -> t -> t\n",
       "    val union : t -> t -> t\n",
       "    val inter : t -> t -> t\n",
       "    val diff : t -> t -> t\n",
       "    val compare : t -> t -> int\n",
       "    val equal : t -> t -> bool\n",
       "    val subset : t -> t -> bool\n",
       "    val iter : (elt -> unit) -> t -> unit\n",
       "    val map : (elt -> elt) -> t -> t\n",
       "    val fold : (elt -> 'a -> 'a) -> t -> 'a -> 'a\n",
       "    val for_all : (elt -> bool) -> t -> bool\n",
       "    val exists : (elt -> bool) -> t -> bool\n",
       "    val filter : (elt -> bool) -> t -> t\n",
       "    val partition : (elt -> bool) -> t -> t * t\n",
       "    val cardinal : t -> int\n",
       "    val elements : t -> elt list\n",
       "    val min_elt : t -> elt\n",
       "    val min_elt_opt : t -> elt option\n",
       "    val max_elt : t -> elt\n",
       "    val max_elt_opt : t -> elt option\n",
       "    val choose : t -> elt\n",
       "    val choose_opt : t -> elt option\n",
       "    val split : elt -> t -> t * bool * t\n",
       "    val find : elt -> t -> elt\n",
       "    val find_opt : elt -> t -> elt option\n",
       "    val find_first : (elt -> bool) -> t -> elt\n",
       "    val find_first_opt : (elt -> bool) -> t -> elt option\n",
       "    val find_last : (elt -> bool) -> t -> elt\n",
       "    val find_last_opt : (elt -> bool) -> t -> elt option\n",
       "    val of_list : elt list -> t\n",
       "    val to_seq_from : elt -> t -> elt Seq.t\n",
       "    val to_seq : t -> elt Seq.t\n",
       "    val add_seq : elt Seq.t -> t -> t\n",
       "    val of_seq : elt Seq.t -> t\n",
       "  end\n"
      ]
     },
     "execution_count": 52,
     "metadata": {},
     "output_type": "execute_result"
    },
    {
     "data": {
      "text/plain": [
       "val vars_of_expr : expr -> VarsSet.t = <fun>\n"
      ]
     },
     "execution_count": 52,
     "metadata": {},
     "output_type": "execute_result"
    },
    {
     "data": {
      "text/plain": [
       "val vars_of_bool_expr : bool_expr -> VarsSet.t = <fun>\n"
      ]
     },
     "execution_count": 52,
     "metadata": {},
     "output_type": "execute_result"
    },
    {
     "data": {
      "text/plain": [
       "val vars_of_stmt : stmt -> VarsSet.t = <fun>\n"
      ]
     },
     "execution_count": 52,
     "metadata": {},
     "output_type": "execute_result"
    },
    {
     "data": {
      "text/plain": [
       "module LabelsSet :\n",
       "  sig\n",
       "    type elt = int\n",
       "    type t\n",
       "    val empty : t\n",
       "    val is_empty : t -> bool\n",
       "    val mem : elt -> t -> bool\n",
       "    val add : elt -> t -> t\n",
       "    val singleton : elt -> t\n",
       "    val remove : elt -> t -> t\n",
       "    val union : t -> t -> t\n",
       "    val inter : t -> t -> t\n",
       "    val diff : t -> t -> t\n",
       "    val compare : t -> t -> int\n",
       "    val equal : t -> t -> bool\n",
       "    val subset : t -> t -> bool\n",
       "    val iter : (elt -> unit) -> t -> unit\n",
       "    val map : (elt -> elt) -> t -> t\n",
       "    val fold : (elt -> 'a -> 'a) -> t -> 'a -> 'a\n",
       "    val for_all : (elt -> bool) -> t -> bool\n",
       "    val exists : (elt -> bool) -> t -> bool\n",
       "    val filter : (elt -> bool) -> t -> t\n",
       "    val partition : (elt -> bool) -> t -> t * t\n",
       "    val cardinal : t -> int\n",
       "    val elements : t -> elt list\n",
       "    val min_elt : t -> elt\n",
       "    val min_elt_opt : t -> elt option\n",
       "    val max_elt : t -> elt\n",
       "    val max_elt_opt : t -> elt option\n",
       "    val choose : t -> elt\n",
       "    val choose_opt : t -> elt option\n",
       "    val split : elt -> t -> t * bool * t\n",
       "    val find : elt -> t -> elt\n",
       "    val find_opt : elt -> t -> elt option\n",
       "    val find_first : (elt -> bool) -> t -> elt\n",
       "    val find_first_opt : (elt -> bool) -> t -> elt option\n",
       "    val find_last : (elt -> bool) -> t -> elt\n",
       "    val find_last_opt : (elt -> bool) -> t -> elt option\n",
       "    val of_list : elt list -> t\n",
       "    val to_seq_from : elt -> t -> elt Seq.t\n",
       "    val to_seq : t -> elt Seq.t\n",
       "    val add_seq : elt Seq.t -> t -> t\n",
       "    val of_seq : elt Seq.t -> t\n",
       "  end\n"
      ]
     },
     "execution_count": 52,
     "metadata": {},
     "output_type": "execute_result"
    },
    {
     "data": {
      "text/plain": [
       "val labels_of_stmt : stmt -> LabelsSet.t = <fun>\n"
      ]
     },
     "execution_count": 52,
     "metadata": {},
     "output_type": "execute_result"
    },
    {
     "data": {
      "text/plain": [
       "type graph_node =\n",
       "    Begin\n",
       "  | End\n",
       "  | Assign of var * expr * label\n",
       "  | BoolExpr of bool_expr * label\n"
      ]
     },
     "execution_count": 52,
     "metadata": {},
     "output_type": "execute_result"
    },
    {
     "data": {
      "text/plain": [
       "type graph_edge = graph_node * graph_node\n"
      ]
     },
     "execution_count": 52,
     "metadata": {},
     "output_type": "execute_result"
    },
    {
     "data": {
      "text/plain": [
       "module GraphNodesSet :\n",
       "  sig\n",
       "    type elt = graph_node\n",
       "    type t\n",
       "    val empty : t\n",
       "    val is_empty : t -> bool\n",
       "    val mem : elt -> t -> bool\n",
       "    val add : elt -> t -> t\n",
       "    val singleton : elt -> t\n",
       "    val remove : elt -> t -> t\n",
       "    val union : t -> t -> t\n",
       "    val inter : t -> t -> t\n",
       "    val diff : t -> t -> t\n",
       "    val compare : t -> t -> int\n",
       "    val equal : t -> t -> bool\n",
       "    val subset : t -> t -> bool\n",
       "    val iter : (elt -> unit) -> t -> unit\n",
       "    val map : (elt -> elt) -> t -> t\n",
       "    val fold : (elt -> 'a -> 'a) -> t -> 'a -> 'a\n",
       "    val for_all : (elt -> bool) -> t -> bool\n",
       "    val exists : (elt -> bool) -> t -> bool\n",
       "    val filter : (elt -> bool) -> t -> t\n",
       "    val partition : (elt -> bool) -> t -> t * t\n",
       "    val cardinal : t -> int\n",
       "    val elements : t -> elt list\n",
       "    val min_elt : t -> elt\n",
       "    val min_elt_opt : t -> elt option\n",
       "    val max_elt : t -> elt\n",
       "    val max_elt_opt : t -> elt option\n",
       "    val choose : t -> elt\n",
       "    val choose_opt : t -> elt option\n",
       "    val split : elt -> t -> t * bool * t\n",
       "    val find : elt -> t -> elt\n",
       "    val find_opt : elt -> t -> elt option\n",
       "    val find_first : (elt -> bool) -> t -> elt\n",
       "    val find_first_opt : (elt -> bool) -> t -> elt option\n",
       "    val find_last : (elt -> bool) -> t -> elt\n",
       "    val find_last_opt : (elt -> bool) -> t -> elt option\n",
       "    val of_list : elt list -> t\n",
       "    val to_seq_from : elt -> t -> elt Seq.t\n",
       "    val to_seq : t -> elt Seq.t\n",
       "    val add_seq : elt Seq.t -> t -> t\n",
       "    val of_seq : elt Seq.t -> t\n",
       "  end\n"
      ]
     },
     "execution_count": 52,
     "metadata": {},
     "output_type": "execute_result"
    },
    {
     "data": {
      "text/plain": [
       "module GraphEdgesSet :\n",
       "  sig\n",
       "    type elt = graph_edge\n",
       "    type t\n",
       "    val empty : t\n",
       "    val is_empty : t -> bool\n",
       "    val mem : elt -> t -> bool\n",
       "    val add : elt -> t -> t\n",
       "    val singleton : elt -> t\n",
       "    val remove : elt -> t -> t\n",
       "    val union : t -> t -> t\n",
       "    val inter : t -> t -> t\n",
       "    val diff : t -> t -> t\n",
       "    val compare : t -> t -> int\n",
       "    val equal : t -> t -> bool\n",
       "    val subset : t -> t -> bool\n",
       "    val iter : (elt -> unit) -> t -> unit\n",
       "    val map : (elt -> elt) -> t -> t\n",
       "    val fold : (elt -> 'a -> 'a) -> t -> 'a -> 'a\n",
       "    val for_all : (elt -> bool) -> t -> bool\n",
       "    val exists : (elt -> bool) -> t -> bool\n",
       "    val filter : (elt -> bool) -> t -> t\n",
       "    val partition : (elt -> bool) -> t -> t * t\n",
       "    val cardinal : t -> int\n",
       "    val elements : t -> elt list\n",
       "    val min_elt : t -> elt\n",
       "    val min_elt_opt : t -> elt option\n",
       "    val max_elt : t -> elt\n",
       "    val max_elt_opt : t -> elt option\n",
       "    val choose : t -> elt\n",
       "    val choose_opt : t -> elt option\n",
       "    val split : elt -> t -> t * bool * t\n",
       "    val find : elt -> t -> elt\n",
       "    val find_opt : elt -> t -> elt option\n",
       "    val find_first : (elt -> bool) -> t -> elt\n",
       "    val find_first_opt : (elt -> bool) -> t -> elt option\n",
       "    val find_last : (elt -> bool) -> t -> elt\n",
       "    val find_last_opt : (elt -> bool) -> t -> elt option\n",
       "    val of_list : elt list -> t\n",
       "    val to_seq_from : elt -> t -> elt Seq.t\n",
       "    val to_seq : t -> elt Seq.t\n",
       "    val add_seq : elt Seq.t -> t -> t\n",
       "    val of_seq : elt Seq.t -> t\n",
       "  end\n"
      ]
     },
     "execution_count": 52,
     "metadata": {},
     "output_type": "execute_result"
    },
    {
     "data": {
      "text/plain": [
       "type cfg = GraphNodesSet.t * GraphEdgesSet.t * graph_node\n"
      ]
     },
     "execution_count": 52,
     "metadata": {},
     "output_type": "execute_result"
    },
    {
     "data": {
      "text/plain": [
       "val empty_cfg : GraphNodesSet.t * GraphEdgesSet.t * graph_node =\n",
       "  (<abstr>, <abstr>, Begin)\n"
      ]
     },
     "execution_count": 52,
     "metadata": {},
     "output_type": "execute_result"
    },
    {
     "data": {
      "text/plain": [
       "val build_cfg : 'a -> 'b -> string = <fun>\n"
      ]
     },
     "execution_count": 52,
     "metadata": {},
     "output_type": "execute_result"
    },
    {
     "data": {
      "text/plain": [
       "type program_info = VarsSet.t * LabelsSet.t * cfg\n"
      ]
     },
     "execution_count": 52,
     "metadata": {},
     "output_type": "execute_result"
    }
   ],
   "source": [
    "module VarsSet = Set.Make(String)\n",
    "\n",
    "let rec vars_of_expr = function\n",
    "| Var v -> VarsSet.singleton v\n",
    "| Const _ -> VarsSet.empty\n",
    "| Op (_, e1, e2) -> VarsSet.union (vars_of_expr e1) (vars_of_expr e2)\n",
    "\n",
    "let rec vars_of_bool_expr = function\n",
    "| True | False -> VarsSet.empty\n",
    "| Not b -> vars_of_bool_expr b\n",
    "| BoolOp (_, b1, b2) -> VarsSet.union (vars_of_bool_expr b1) (vars_of_bool_expr b2)\n",
    "| RelOp (_, e1, e2) -> VarsSet.union (vars_of_expr e1) (vars_of_expr e2)\n",
    "\n",
    "let rec vars_of_stmt = function\n",
    "| Skip _ -> VarsSet.empty\n",
    "| Assign (v, e, _) -> VarsSet.union (VarsSet.singleton v) (vars_of_expr e)\n",
    "| Seq (s1, s2) -> VarsSet.union (vars_of_stmt s1) (vars_of_stmt s2)\n",
    "| If (b, _, s1, s2) -> VarsSet.union (VarsSet.union (vars_of_bool_expr b) (vars_of_stmt s1)) (vars_of_stmt s2)\n",
    "| While (b, _, s) -> VarsSet.union (vars_of_bool_expr b) (vars_of_stmt s)\n",
    "\n",
    "module LabelsSet = Set.Make(struct \n",
    "   type t = int \n",
    "   let compare = compare\n",
    "end)\n",
    " \n",
    "let rec labels_of_stmt = function\n",
    "| Skip l -> LabelsSet.singleton l\n",
    "| Assign (_, _, l) -> LabelsSet.singleton l\n",
    "| Seq (s1, s2) -> LabelsSet.union (labels_of_stmt s1) (labels_of_stmt s2)\n",
    "| If (_, l, s1, s2) -> LabelsSet.union (LabelsSet.union (LabelsSet.singleton l) (labels_of_stmt s1)) (labels_of_stmt s2)\n",
    "| While (_, l, s) -> LabelsSet.union (LabelsSet.singleton l) (labels_of_stmt s)\n",
    "\n",
    "type graph_node = Begin | End\n",
    "                | Assign of var * expr * label\n",
    "                | BoolExpr of bool_expr * label\n",
    "type graph_edge = graph_node * graph_node\n",
    "\n",
    "module GraphNodesSet = Set.Make(struct\n",
    "    type t = graph_node\n",
    "    let compare = compare\n",
    "end)\n",
    "\n",
    "module GraphEdgesSet = Set.Make(struct\n",
    "    type t = graph_edge\n",
    "    let compare = compare\n",
    "end)\n",
    "\n",
    "type cfg = GraphNodesSet.t * GraphEdgesSet.t * graph_node\n",
    "\n",
    "let empty_cfg = (GraphNodesSet.of_list [Begin; End]), (GraphEdgesSet.singleton (Begin, End)), Begin\n",
    "\n",
    "let build_cfg cfg stmt = \"TODO\"\n",
    "\n",
    "type program_info = VarsSet.t * LabelsSet.t * cfg"
   ]
  },
  {
   "cell_type": "code",
   "execution_count": null,
   "metadata": {},
   "outputs": [],
   "source": []
  }
 ],
 "metadata": {
  "kernelspec": {
   "display_name": "OCaml default",
   "language": "OCaml",
   "name": "ocaml-jupyter"
  },
  "language_info": {
   "codemirror_mode": "text/x-ocaml",
   "file_extension": ".ml",
   "mimetype": "text/x-ocaml",
   "name": "OCaml",
   "nbconverter_exporter": null,
   "pygments_lexer": "OCaml",
   "version": "4.07.1"
  }
 },
 "nbformat": 4,
 "nbformat_minor": 2
}
